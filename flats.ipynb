{
 "cells": [
  {
   "cell_type": "markdown",
   "metadata": {},
   "source": [
    "# Исследование объявлений о продаже квартир\n",
    "\n",
    "В распоряжении  имеется архив объявлений о продаже квартир в Санкт-Петербурге и соседних населённых пунктов за несколько лет. Нужно научиться определять рыночную стоимость объектов недвижимости. Цель исследования — установить параметры. Это позволит построить автоматизированную систему: она отследит аномалии и мошенническую деятельность. \n",
    "По каждой квартире на продажу доступны два вида данных. Первые вписаны пользователем, вторые — получены автоматически на основе картографических данных. Например, расстояние до центра, аэропорта, ближайшего парка и водоёма. "
   ]
  },
  {
   "cell_type": "markdown",
   "metadata": {},
   "source": [
    "#### Оглавление\n",
    "1. [Открытие файла и изучение общей информации](#start)\n",
    "2. [Предобработка данных](#2)\n",
    "3. [Вычисление и добавление дополнительных параметров в таблицу](#3)\n",
    "4. [Проведение исследовательского анализа данных](#4)\n",
    "5. [Общий вывод](#5)"
   ]
  },
  {
   "cell_type": "markdown",
   "metadata": {},
   "source": [
    "### 1. Открытие файла с данными и изучение общей информации.  <a id='start'></a>"
   ]
  },
  {
   "cell_type": "code",
   "execution_count": 1,
   "metadata": {
    "scrolled": false
   },
   "outputs": [
    {
     "data": {
      "text/html": [
       "<div>\n",
       "<style scoped>\n",
       "    .dataframe tbody tr th:only-of-type {\n",
       "        vertical-align: middle;\n",
       "    }\n",
       "\n",
       "    .dataframe tbody tr th {\n",
       "        vertical-align: top;\n",
       "    }\n",
       "\n",
       "    .dataframe thead th {\n",
       "        text-align: right;\n",
       "    }\n",
       "</style>\n",
       "<table border=\"1\" class=\"dataframe\">\n",
       "  <thead>\n",
       "    <tr style=\"text-align: right;\">\n",
       "      <th></th>\n",
       "      <th>total_images</th>\n",
       "      <th>last_price</th>\n",
       "      <th>total_area</th>\n",
       "      <th>first_day_exposition</th>\n",
       "      <th>rooms</th>\n",
       "      <th>ceiling_height</th>\n",
       "      <th>floors_total</th>\n",
       "      <th>living_area</th>\n",
       "      <th>floor</th>\n",
       "      <th>is_apartment</th>\n",
       "      <th>...</th>\n",
       "      <th>kitchen_area</th>\n",
       "      <th>balcony</th>\n",
       "      <th>locality_name</th>\n",
       "      <th>airports_nearest</th>\n",
       "      <th>cityCenters_nearest</th>\n",
       "      <th>parks_around3000</th>\n",
       "      <th>parks_nearest</th>\n",
       "      <th>ponds_around3000</th>\n",
       "      <th>ponds_nearest</th>\n",
       "      <th>days_exposition</th>\n",
       "    </tr>\n",
       "  </thead>\n",
       "  <tbody>\n",
       "    <tr>\n",
       "      <th>0</th>\n",
       "      <td>20</td>\n",
       "      <td>13000000.0</td>\n",
       "      <td>108.00</td>\n",
       "      <td>2019-03-07T00:00:00</td>\n",
       "      <td>3</td>\n",
       "      <td>2.70</td>\n",
       "      <td>16.0</td>\n",
       "      <td>51.00</td>\n",
       "      <td>8</td>\n",
       "      <td>NaN</td>\n",
       "      <td>...</td>\n",
       "      <td>25.00</td>\n",
       "      <td>NaN</td>\n",
       "      <td>Санкт-Петербург</td>\n",
       "      <td>18863.0</td>\n",
       "      <td>16028.0</td>\n",
       "      <td>1.0</td>\n",
       "      <td>482.0</td>\n",
       "      <td>2.0</td>\n",
       "      <td>755.0</td>\n",
       "      <td>NaN</td>\n",
       "    </tr>\n",
       "    <tr>\n",
       "      <th>1</th>\n",
       "      <td>7</td>\n",
       "      <td>3350000.0</td>\n",
       "      <td>40.40</td>\n",
       "      <td>2018-12-04T00:00:00</td>\n",
       "      <td>1</td>\n",
       "      <td>NaN</td>\n",
       "      <td>11.0</td>\n",
       "      <td>18.60</td>\n",
       "      <td>1</td>\n",
       "      <td>NaN</td>\n",
       "      <td>...</td>\n",
       "      <td>11.00</td>\n",
       "      <td>2.0</td>\n",
       "      <td>посёлок Шушары</td>\n",
       "      <td>12817.0</td>\n",
       "      <td>18603.0</td>\n",
       "      <td>0.0</td>\n",
       "      <td>NaN</td>\n",
       "      <td>0.0</td>\n",
       "      <td>NaN</td>\n",
       "      <td>81.0</td>\n",
       "    </tr>\n",
       "    <tr>\n",
       "      <th>2</th>\n",
       "      <td>10</td>\n",
       "      <td>5196000.0</td>\n",
       "      <td>56.00</td>\n",
       "      <td>2015-08-20T00:00:00</td>\n",
       "      <td>2</td>\n",
       "      <td>NaN</td>\n",
       "      <td>5.0</td>\n",
       "      <td>34.30</td>\n",
       "      <td>4</td>\n",
       "      <td>NaN</td>\n",
       "      <td>...</td>\n",
       "      <td>8.30</td>\n",
       "      <td>0.0</td>\n",
       "      <td>Санкт-Петербург</td>\n",
       "      <td>21741.0</td>\n",
       "      <td>13933.0</td>\n",
       "      <td>1.0</td>\n",
       "      <td>90.0</td>\n",
       "      <td>2.0</td>\n",
       "      <td>574.0</td>\n",
       "      <td>558.0</td>\n",
       "    </tr>\n",
       "    <tr>\n",
       "      <th>3</th>\n",
       "      <td>0</td>\n",
       "      <td>64900000.0</td>\n",
       "      <td>159.00</td>\n",
       "      <td>2015-07-24T00:00:00</td>\n",
       "      <td>3</td>\n",
       "      <td>NaN</td>\n",
       "      <td>14.0</td>\n",
       "      <td>NaN</td>\n",
       "      <td>9</td>\n",
       "      <td>NaN</td>\n",
       "      <td>...</td>\n",
       "      <td>NaN</td>\n",
       "      <td>0.0</td>\n",
       "      <td>Санкт-Петербург</td>\n",
       "      <td>28098.0</td>\n",
       "      <td>6800.0</td>\n",
       "      <td>2.0</td>\n",
       "      <td>84.0</td>\n",
       "      <td>3.0</td>\n",
       "      <td>234.0</td>\n",
       "      <td>424.0</td>\n",
       "    </tr>\n",
       "    <tr>\n",
       "      <th>4</th>\n",
       "      <td>2</td>\n",
       "      <td>10000000.0</td>\n",
       "      <td>100.00</td>\n",
       "      <td>2018-06-19T00:00:00</td>\n",
       "      <td>2</td>\n",
       "      <td>3.03</td>\n",
       "      <td>14.0</td>\n",
       "      <td>32.00</td>\n",
       "      <td>13</td>\n",
       "      <td>NaN</td>\n",
       "      <td>...</td>\n",
       "      <td>41.00</td>\n",
       "      <td>NaN</td>\n",
       "      <td>Санкт-Петербург</td>\n",
       "      <td>31856.0</td>\n",
       "      <td>8098.0</td>\n",
       "      <td>2.0</td>\n",
       "      <td>112.0</td>\n",
       "      <td>1.0</td>\n",
       "      <td>48.0</td>\n",
       "      <td>121.0</td>\n",
       "    </tr>\n",
       "    <tr>\n",
       "      <th>5</th>\n",
       "      <td>10</td>\n",
       "      <td>2890000.0</td>\n",
       "      <td>30.40</td>\n",
       "      <td>2018-09-10T00:00:00</td>\n",
       "      <td>1</td>\n",
       "      <td>NaN</td>\n",
       "      <td>12.0</td>\n",
       "      <td>14.40</td>\n",
       "      <td>5</td>\n",
       "      <td>NaN</td>\n",
       "      <td>...</td>\n",
       "      <td>9.10</td>\n",
       "      <td>NaN</td>\n",
       "      <td>городской посёлок Янино-1</td>\n",
       "      <td>NaN</td>\n",
       "      <td>NaN</td>\n",
       "      <td>NaN</td>\n",
       "      <td>NaN</td>\n",
       "      <td>NaN</td>\n",
       "      <td>NaN</td>\n",
       "      <td>55.0</td>\n",
       "    </tr>\n",
       "    <tr>\n",
       "      <th>6</th>\n",
       "      <td>6</td>\n",
       "      <td>3700000.0</td>\n",
       "      <td>37.30</td>\n",
       "      <td>2017-11-02T00:00:00</td>\n",
       "      <td>1</td>\n",
       "      <td>NaN</td>\n",
       "      <td>26.0</td>\n",
       "      <td>10.60</td>\n",
       "      <td>6</td>\n",
       "      <td>NaN</td>\n",
       "      <td>...</td>\n",
       "      <td>14.40</td>\n",
       "      <td>1.0</td>\n",
       "      <td>посёлок Парголово</td>\n",
       "      <td>52996.0</td>\n",
       "      <td>19143.0</td>\n",
       "      <td>0.0</td>\n",
       "      <td>NaN</td>\n",
       "      <td>0.0</td>\n",
       "      <td>NaN</td>\n",
       "      <td>155.0</td>\n",
       "    </tr>\n",
       "    <tr>\n",
       "      <th>7</th>\n",
       "      <td>5</td>\n",
       "      <td>7915000.0</td>\n",
       "      <td>71.60</td>\n",
       "      <td>2019-04-18T00:00:00</td>\n",
       "      <td>2</td>\n",
       "      <td>NaN</td>\n",
       "      <td>24.0</td>\n",
       "      <td>NaN</td>\n",
       "      <td>22</td>\n",
       "      <td>NaN</td>\n",
       "      <td>...</td>\n",
       "      <td>18.90</td>\n",
       "      <td>2.0</td>\n",
       "      <td>Санкт-Петербург</td>\n",
       "      <td>23982.0</td>\n",
       "      <td>11634.0</td>\n",
       "      <td>0.0</td>\n",
       "      <td>NaN</td>\n",
       "      <td>0.0</td>\n",
       "      <td>NaN</td>\n",
       "      <td>NaN</td>\n",
       "    </tr>\n",
       "    <tr>\n",
       "      <th>8</th>\n",
       "      <td>20</td>\n",
       "      <td>2900000.0</td>\n",
       "      <td>33.16</td>\n",
       "      <td>2018-05-23T00:00:00</td>\n",
       "      <td>1</td>\n",
       "      <td>NaN</td>\n",
       "      <td>27.0</td>\n",
       "      <td>15.43</td>\n",
       "      <td>26</td>\n",
       "      <td>NaN</td>\n",
       "      <td>...</td>\n",
       "      <td>8.81</td>\n",
       "      <td>NaN</td>\n",
       "      <td>посёлок Мурино</td>\n",
       "      <td>NaN</td>\n",
       "      <td>NaN</td>\n",
       "      <td>NaN</td>\n",
       "      <td>NaN</td>\n",
       "      <td>NaN</td>\n",
       "      <td>NaN</td>\n",
       "      <td>189.0</td>\n",
       "    </tr>\n",
       "    <tr>\n",
       "      <th>9</th>\n",
       "      <td>18</td>\n",
       "      <td>5400000.0</td>\n",
       "      <td>61.00</td>\n",
       "      <td>2017-02-26T00:00:00</td>\n",
       "      <td>3</td>\n",
       "      <td>2.50</td>\n",
       "      <td>9.0</td>\n",
       "      <td>43.60</td>\n",
       "      <td>7</td>\n",
       "      <td>NaN</td>\n",
       "      <td>...</td>\n",
       "      <td>6.50</td>\n",
       "      <td>2.0</td>\n",
       "      <td>Санкт-Петербург</td>\n",
       "      <td>50898.0</td>\n",
       "      <td>15008.0</td>\n",
       "      <td>0.0</td>\n",
       "      <td>NaN</td>\n",
       "      <td>0.0</td>\n",
       "      <td>NaN</td>\n",
       "      <td>289.0</td>\n",
       "    </tr>\n",
       "  </tbody>\n",
       "</table>\n",
       "<p>10 rows × 22 columns</p>\n",
       "</div>"
      ],
      "text/plain": [
       "   total_images  last_price  total_area first_day_exposition  rooms  \\\n",
       "0            20  13000000.0      108.00  2019-03-07T00:00:00      3   \n",
       "1             7   3350000.0       40.40  2018-12-04T00:00:00      1   \n",
       "2            10   5196000.0       56.00  2015-08-20T00:00:00      2   \n",
       "3             0  64900000.0      159.00  2015-07-24T00:00:00      3   \n",
       "4             2  10000000.0      100.00  2018-06-19T00:00:00      2   \n",
       "5            10   2890000.0       30.40  2018-09-10T00:00:00      1   \n",
       "6             6   3700000.0       37.30  2017-11-02T00:00:00      1   \n",
       "7             5   7915000.0       71.60  2019-04-18T00:00:00      2   \n",
       "8            20   2900000.0       33.16  2018-05-23T00:00:00      1   \n",
       "9            18   5400000.0       61.00  2017-02-26T00:00:00      3   \n",
       "\n",
       "   ceiling_height  floors_total  living_area  floor is_apartment  ...  \\\n",
       "0            2.70          16.0        51.00      8          NaN  ...   \n",
       "1             NaN          11.0        18.60      1          NaN  ...   \n",
       "2             NaN           5.0        34.30      4          NaN  ...   \n",
       "3             NaN          14.0          NaN      9          NaN  ...   \n",
       "4            3.03          14.0        32.00     13          NaN  ...   \n",
       "5             NaN          12.0        14.40      5          NaN  ...   \n",
       "6             NaN          26.0        10.60      6          NaN  ...   \n",
       "7             NaN          24.0          NaN     22          NaN  ...   \n",
       "8             NaN          27.0        15.43     26          NaN  ...   \n",
       "9            2.50           9.0        43.60      7          NaN  ...   \n",
       "\n",
       "   kitchen_area  balcony              locality_name  airports_nearest  \\\n",
       "0         25.00      NaN            Санкт-Петербург           18863.0   \n",
       "1         11.00      2.0             посёлок Шушары           12817.0   \n",
       "2          8.30      0.0            Санкт-Петербург           21741.0   \n",
       "3           NaN      0.0            Санкт-Петербург           28098.0   \n",
       "4         41.00      NaN            Санкт-Петербург           31856.0   \n",
       "5          9.10      NaN  городской посёлок Янино-1               NaN   \n",
       "6         14.40      1.0          посёлок Парголово           52996.0   \n",
       "7         18.90      2.0            Санкт-Петербург           23982.0   \n",
       "8          8.81      NaN             посёлок Мурино               NaN   \n",
       "9          6.50      2.0            Санкт-Петербург           50898.0   \n",
       "\n",
       "  cityCenters_nearest  parks_around3000  parks_nearest  ponds_around3000  \\\n",
       "0             16028.0               1.0          482.0               2.0   \n",
       "1             18603.0               0.0            NaN               0.0   \n",
       "2             13933.0               1.0           90.0               2.0   \n",
       "3              6800.0               2.0           84.0               3.0   \n",
       "4              8098.0               2.0          112.0               1.0   \n",
       "5                 NaN               NaN            NaN               NaN   \n",
       "6             19143.0               0.0            NaN               0.0   \n",
       "7             11634.0               0.0            NaN               0.0   \n",
       "8                 NaN               NaN            NaN               NaN   \n",
       "9             15008.0               0.0            NaN               0.0   \n",
       "\n",
       "   ponds_nearest  days_exposition  \n",
       "0          755.0              NaN  \n",
       "1            NaN             81.0  \n",
       "2          574.0            558.0  \n",
       "3          234.0            424.0  \n",
       "4           48.0            121.0  \n",
       "5            NaN             55.0  \n",
       "6            NaN            155.0  \n",
       "7            NaN              NaN  \n",
       "8            NaN            189.0  \n",
       "9            NaN            289.0  \n",
       "\n",
       "[10 rows x 22 columns]"
      ]
     },
     "metadata": {},
     "output_type": "display_data"
    },
    {
     "name": "stdout",
     "output_type": "stream",
     "text": [
      "<class 'pandas.core.frame.DataFrame'>\n",
      "RangeIndex: 23699 entries, 0 to 23698\n",
      "Data columns (total 22 columns):\n",
      " #   Column                Non-Null Count  Dtype  \n",
      "---  ------                --------------  -----  \n",
      " 0   total_images          23699 non-null  int64  \n",
      " 1   last_price            23699 non-null  float64\n",
      " 2   total_area            23699 non-null  float64\n",
      " 3   first_day_exposition  23699 non-null  object \n",
      " 4   rooms                 23699 non-null  int64  \n",
      " 5   ceiling_height        14504 non-null  float64\n",
      " 6   floors_total          23613 non-null  float64\n",
      " 7   living_area           21796 non-null  float64\n",
      " 8   floor                 23699 non-null  int64  \n",
      " 9   is_apartment          2775 non-null   object \n",
      " 10  studio                23699 non-null  bool   \n",
      " 11  open_plan             23699 non-null  bool   \n",
      " 12  kitchen_area          21421 non-null  float64\n",
      " 13  balcony               12180 non-null  float64\n",
      " 14  locality_name         23650 non-null  object \n",
      " 15  airports_nearest      18157 non-null  float64\n",
      " 16  cityCenters_nearest   18180 non-null  float64\n",
      " 17  parks_around3000      18181 non-null  float64\n",
      " 18  parks_nearest         8079 non-null   float64\n",
      " 19  ponds_around3000      18181 non-null  float64\n",
      " 20  ponds_nearest         9110 non-null   float64\n",
      " 21  days_exposition       20518 non-null  float64\n",
      "dtypes: bool(2), float64(14), int64(3), object(3)\n",
      "memory usage: 3.7+ MB\n",
      "None\n",
      "(23699, 22)\n"
     ]
    }
   ],
   "source": [
    "import pandas as pd\n",
    "from IPython.display import display\n",
    "df=pd.read_csv('datasets/real_estate_data.csv', sep='\\t')\n",
    "display(df.head(10))\n",
    "print(df.info())\n",
    "print(df.shape)"
   ]
  },
  {
   "cell_type": "markdown",
   "metadata": {},
   "source": [
    "Таблица с исходными данными имеет 23699 строк, т.е. в таблице имеются данные о 23699 квартирах. Столбцы total_images (число фотографий квартиры в объявлении), last_price (цена на момент снятия с публикации), total_area (площадь квартиры в квадратных метрах (м²)), first_day_exposition (дата публикации), rooms (число комнат), studio (квартира-студия (булев тип)), open_plan (свободная планировка (булев тип)) заполнены полностью, в остальных столбцах встречается различное количество пропусков."
   ]
  },
  {
   "cell_type": "code",
   "execution_count": 2,
   "metadata": {},
   "outputs": [
    {
     "name": "stdout",
     "output_type": "stream",
     "text": [
      "10    1798\n",
      "9     1725\n",
      "20    1694\n",
      "8     1585\n",
      "7     1521\n",
      "6     1482\n",
      "11    1362\n",
      "5     1301\n",
      "12    1225\n",
      "0     1059\n",
      "13    1015\n",
      "14     986\n",
      "4      986\n",
      "15     948\n",
      "1      872\n",
      "3      769\n",
      "16     761\n",
      "17     650\n",
      "18     642\n",
      "2      640\n",
      "19     603\n",
      "23      16\n",
      "21      12\n",
      "24       8\n",
      "22       8\n",
      "26       5\n",
      "28       4\n",
      "32       4\n",
      "50       3\n",
      "29       3\n",
      "31       2\n",
      "35       2\n",
      "30       2\n",
      "27       2\n",
      "37       1\n",
      "39       1\n",
      "25       1\n",
      "42       1\n",
      "Name: total_images, dtype: int64\n"
     ]
    }
   ],
   "source": [
    "print(df['total_images'].value_counts())\n"
   ]
  },
  {
   "cell_type": "code",
   "execution_count": 3,
   "metadata": {},
   "outputs": [
    {
     "name": "stdout",
     "output_type": "stream",
     "text": [
      "4500000.0     342\n",
      "3500000.0     291\n",
      "4000000.0     260\n",
      "4300000.0     260\n",
      "4200000.0     259\n",
      "             ... \n",
      "4412094.0       1\n",
      "6416000.0       1\n",
      "4581000.0       1\n",
      "34551000.0      1\n",
      "6029433.0       1\n",
      "Name: last_price, Length: 2978, dtype: int64\n",
      "count    2.369900e+04\n",
      "mean     6.541549e+06\n",
      "std      1.088701e+07\n",
      "min      1.219000e+04\n",
      "25%      3.400000e+06\n",
      "50%      4.650000e+06\n",
      "75%      6.800000e+06\n",
      "max      7.630000e+08\n",
      "Name: last_price, dtype: float64\n"
     ]
    }
   ],
   "source": [
    "print(df['last_price'].value_counts())\n",
    "print(df['last_price'].describe())\n"
   ]
  },
  {
   "cell_type": "code",
   "execution_count": 4,
   "metadata": {},
   "outputs": [
    {
     "name": "stdout",
     "output_type": "stream",
     "text": [
      "45.00     419\n",
      "42.00     383\n",
      "60.00     347\n",
      "31.00     346\n",
      "44.00     345\n",
      "         ... \n",
      "45.85       1\n",
      "44.18       1\n",
      "59.83       1\n",
      "127.20      1\n",
      "23.55       1\n",
      "Name: total_area, Length: 2182, dtype: int64\n",
      "count    23699.000000\n",
      "mean        60.348651\n",
      "std         35.654083\n",
      "min         12.000000\n",
      "25%         40.000000\n",
      "50%         52.000000\n",
      "75%         69.900000\n",
      "max        900.000000\n",
      "Name: total_area, dtype: float64\n"
     ]
    }
   ],
   "source": [
    "print(df['total_area'].value_counts())\n",
    "print(df['total_area'].describe())"
   ]
  },
  {
   "cell_type": "code",
   "execution_count": 5,
   "metadata": {},
   "outputs": [
    {
     "name": "stdout",
     "output_type": "stream",
     "text": [
      "2018-02-01T00:00:00    368\n",
      "2017-11-10T00:00:00    240\n",
      "2017-10-13T00:00:00    124\n",
      "2017-09-27T00:00:00    111\n",
      "2018-03-26T00:00:00     97\n",
      "                      ... \n",
      "2016-09-25T00:00:00      1\n",
      "2016-08-28T00:00:00      1\n",
      "2016-09-05T00:00:00      1\n",
      "2015-07-26T00:00:00      1\n",
      "2018-05-20T00:00:00      1\n",
      "Name: first_day_exposition, Length: 1491, dtype: int64\n"
     ]
    }
   ],
   "source": [
    "print(df['first_day_exposition'].value_counts())"
   ]
  },
  {
   "cell_type": "markdown",
   "metadata": {},
   "source": [
    " Столбец first_day_exposition (дата публикации) не имеет пропущенных значений, но формат даты необходимо перевести в datetime."
   ]
  },
  {
   "cell_type": "code",
   "execution_count": 6,
   "metadata": {},
   "outputs": [
    {
     "name": "stdout",
     "output_type": "stream",
     "text": [
      "1     8047\n",
      "2     7940\n",
      "3     5814\n",
      "4     1180\n",
      "5      326\n",
      "0      197\n",
      "6      105\n",
      "7       59\n",
      "8       12\n",
      "9        8\n",
      "10       3\n",
      "14       2\n",
      "11       2\n",
      "19       1\n",
      "12       1\n",
      "16       1\n",
      "15       1\n",
      "Name: rooms, dtype: int64\n"
     ]
    }
   ],
   "source": [
    "print(df['rooms'].value_counts())"
   ]
  },
  {
   "cell_type": "code",
   "execution_count": 7,
   "metadata": {},
   "outputs": [
    {
     "name": "stdout",
     "output_type": "stream",
     "text": [
      "2.50      3515\n",
      "2.60      1646\n",
      "2.70      1574\n",
      "3.00      1112\n",
      "2.80       993\n",
      "          ... \n",
      "27.50        1\n",
      "5.00         1\n",
      "3.59         1\n",
      "4.80         1\n",
      "100.00       1\n",
      "Name: ceiling_height, Length: 183, dtype: int64\n",
      "count    14504.000000\n",
      "mean         2.771499\n",
      "std          1.261056\n",
      "min          1.000000\n",
      "25%          2.520000\n",
      "50%          2.650000\n",
      "75%          2.800000\n",
      "max        100.000000\n",
      "Name: ceiling_height, dtype: float64\n"
     ]
    }
   ],
   "source": [
    "print(df['ceiling_height'].value_counts())\n",
    "print(df['ceiling_height'].describe())\n"
   ]
  },
  {
   "cell_type": "markdown",
   "metadata": {},
   "source": [
    "В столбце ceiling_height (высота потолков (м)) 14504 значения заполнены из 23699, максимальное значение столбца 100 м, что кажется сомнительным. Эти значения требуют более тщательного рассмотрения и дополнительного уточнения исходных данных, т.к. в типовых квартирах высота потолков не больше 4 м."
   ]
  },
  {
   "cell_type": "code",
   "execution_count": 8,
   "metadata": {},
   "outputs": [
    {
     "name": "stdout",
     "output_type": "stream",
     "text": [
      "5.0     5788\n",
      "9.0     3761\n",
      "16.0    1376\n",
      "12.0    1362\n",
      "4.0     1200\n",
      "10.0    1174\n",
      "25.0    1075\n",
      "6.0      914\n",
      "17.0     833\n",
      "3.0      668\n",
      "7.0      592\n",
      "14.0     553\n",
      "18.0     505\n",
      "24.0     469\n",
      "8.0      390\n",
      "2.0      383\n",
      "15.0     365\n",
      "23.0     352\n",
      "19.0     339\n",
      "22.0     286\n",
      "20.0     271\n",
      "13.0     229\n",
      "11.0     203\n",
      "27.0     164\n",
      "21.0     158\n",
      "26.0     124\n",
      "1.0       25\n",
      "35.0      24\n",
      "28.0      21\n",
      "36.0       3\n",
      "29.0       1\n",
      "60.0       1\n",
      "33.0       1\n",
      "52.0       1\n",
      "37.0       1\n",
      "34.0       1\n",
      "Name: floors_total, dtype: int64\n"
     ]
    }
   ],
   "source": [
    "print(df['floors_total'].value_counts())"
   ]
  },
  {
   "cell_type": "code",
   "execution_count": 9,
   "metadata": {},
   "outputs": [
    {
     "name": "stdout",
     "output_type": "stream",
     "text": [
      "18.00    882\n",
      "17.00    675\n",
      "30.00    598\n",
      "16.00    486\n",
      "20.00    481\n",
      "        ... \n",
      "20.03      1\n",
      "10.55      1\n",
      "24.83      1\n",
      "20.97      1\n",
      "15.55      1\n",
      "Name: living_area, Length: 1782, dtype: int64\n",
      "count    21796.000000\n",
      "mean        34.457852\n",
      "std         22.030445\n",
      "min          2.000000\n",
      "25%         18.600000\n",
      "50%         30.000000\n",
      "75%         42.300000\n",
      "max        409.700000\n",
      "Name: living_area, dtype: float64\n"
     ]
    }
   ],
   "source": [
    "print(df['living_area'].value_counts())\n",
    "print(df['living_area'].describe())"
   ]
  },
  {
   "cell_type": "markdown",
   "metadata": {},
   "source": [
    "В столбце living_area (жилая площадь в квадратных метрах(м²)) минимальное значение составляет 2м², что вызывает сомнения и требует более тщательного рассмотрения и дополнительного уточнения исходных данных."
   ]
  },
  {
   "cell_type": "code",
   "execution_count": 10,
   "metadata": {},
   "outputs": [
    {
     "name": "stdout",
     "output_type": "stream",
     "text": [
      "2     3368\n",
      "3     3073\n",
      "1     2917\n",
      "4     2804\n",
      "5     2621\n",
      "6     1305\n",
      "7     1218\n",
      "8     1083\n",
      "9     1051\n",
      "10     687\n",
      "12     526\n",
      "11     523\n",
      "13     379\n",
      "15     343\n",
      "14     337\n",
      "16     315\n",
      "17     227\n",
      "18     178\n",
      "19     147\n",
      "21     125\n",
      "22     113\n",
      "20     110\n",
      "23     100\n",
      "24      63\n",
      "25      46\n",
      "26      24\n",
      "27      10\n",
      "28       1\n",
      "33       1\n",
      "29       1\n",
      "30       1\n",
      "32       1\n",
      "31       1\n",
      "Name: floor, dtype: int64\n"
     ]
    }
   ],
   "source": [
    "print(df['floor'].value_counts())"
   ]
  },
  {
   "cell_type": "code",
   "execution_count": 11,
   "metadata": {},
   "outputs": [
    {
     "name": "stdout",
     "output_type": "stream",
     "text": [
      "False    2725\n",
      "True       50\n",
      "Name: is_apartment, dtype: int64\n"
     ]
    }
   ],
   "source": [
    "print(df['is_apartment'].value_counts())"
   ]
  },
  {
   "cell_type": "markdown",
   "metadata": {},
   "source": [
    "Столбец \"апартаменты\" (is_apartment) имеет булев тип, его заполняли в случае, если ответ положительный (True) и, иногда, если отрицательный (False). Исходя из этих соображений пропущенный значения столбца is_apartment (апартаменты (булев тип)) заполним значениями False."
   ]
  },
  {
   "cell_type": "code",
   "execution_count": 12,
   "metadata": {},
   "outputs": [
    {
     "name": "stdout",
     "output_type": "stream",
     "text": [
      "False    23550\n",
      "True       149\n",
      "Name: studio, dtype: int64\n"
     ]
    }
   ],
   "source": [
    "print(df['studio'].value_counts())"
   ]
  },
  {
   "cell_type": "code",
   "execution_count": 13,
   "metadata": {},
   "outputs": [
    {
     "name": "stdout",
     "output_type": "stream",
     "text": [
      "False    23632\n",
      "True        67\n",
      "Name: open_plan, dtype: int64\n"
     ]
    }
   ],
   "source": [
    "print(df['open_plan'].value_counts())"
   ]
  },
  {
   "cell_type": "code",
   "execution_count": 14,
   "metadata": {},
   "outputs": [
    {
     "name": "stdout",
     "output_type": "stream",
     "text": [
      "6.00     1300\n",
      "10.00    1262\n",
      "8.00     1110\n",
      "9.00     1101\n",
      "7.00     1062\n",
      "         ... \n",
      "18.07       1\n",
      "28.20       1\n",
      "37.90       1\n",
      "9.51        1\n",
      "35.40       1\n",
      "Name: kitchen_area, Length: 971, dtype: int64\n",
      "count    21421.000000\n",
      "mean        10.569807\n",
      "std          5.905438\n",
      "min          1.300000\n",
      "25%          7.000000\n",
      "50%          9.100000\n",
      "75%         12.000000\n",
      "max        112.000000\n",
      "Name: kitchen_area, dtype: float64\n"
     ]
    }
   ],
   "source": [
    "print(df['kitchen_area'].value_counts())\n",
    "print(df['kitchen_area'].describe())"
   ]
  },
  {
   "cell_type": "code",
   "execution_count": 15,
   "metadata": {},
   "outputs": [
    {
     "name": "stdout",
     "output_type": "stream",
     "text": [
      "1.0    4195\n",
      "0.0    3758\n",
      "2.0    3659\n",
      "5.0     304\n",
      "4.0     183\n",
      "3.0      81\n",
      "Name: balcony, dtype: int64\n"
     ]
    }
   ],
   "source": [
    "print(df['balcony'].value_counts())"
   ]
  },
  {
   "cell_type": "markdown",
   "metadata": {},
   "source": [
    "В столбце \"число балконов\" не указывалось количество балконов, скорее всего, при их отсутствии, поэтому будет логично заменить пропуски на 0, а тип столбца следует изменить с float на int, т.к. количество балконов может быть только целым числом."
   ]
  },
  {
   "cell_type": "code",
   "execution_count": 16,
   "metadata": {},
   "outputs": [
    {
     "name": "stdout",
     "output_type": "stream",
     "text": [
      "Санкт-Петербург                                            15721\n",
      "посёлок Мурино                                               522\n",
      "посёлок Шушары                                               440\n",
      "Всеволожск                                                   398\n",
      "Пушкин                                                       369\n",
      "                                                           ...  \n",
      "поселок Возрождение                                            1\n",
      "садоводческое некоммерческое товарищество Лесная Поляна        1\n",
      "деревня Большой Сабск                                          1\n",
      "деревня Раздолье                                               1\n",
      "поселок Калитино                                               1\n",
      "Name: locality_name, Length: 364, dtype: int64\n"
     ]
    }
   ],
   "source": [
    "print(df['locality_name'].value_counts())"
   ]
  },
  {
   "cell_type": "code",
   "execution_count": 17,
   "metadata": {},
   "outputs": [
    {
     "name": "stdout",
     "output_type": "stream",
     "text": [
      "37434.0    61\n",
      "21928.0    32\n",
      "39946.0    30\n",
      "44870.0    30\n",
      "37407.0    27\n",
      "           ..\n",
      "25122.0     1\n",
      "26768.0     1\n",
      "22248.0     1\n",
      "20475.0     1\n",
      "14579.0     1\n",
      "Name: airports_nearest, Length: 8275, dtype: int64\n"
     ]
    }
   ],
   "source": [
    "print(df['airports_nearest'].value_counts())"
   ]
  },
  {
   "cell_type": "code",
   "execution_count": 18,
   "metadata": {},
   "outputs": [
    {
     "name": "stdout",
     "output_type": "stream",
     "text": [
      "8460.0     61\n",
      "20802.0    32\n",
      "10720.0    30\n",
      "8434.0     27\n",
      "20444.0    27\n",
      "           ..\n",
      "13104.0     1\n",
      "11280.0     1\n",
      "27218.0     1\n",
      "10501.0     1\n",
      "208.0       1\n",
      "Name: cityCenters_nearest, Length: 7642, dtype: int64\n"
     ]
    }
   ],
   "source": [
    "print(df['cityCenters_nearest'].value_counts())"
   ]
  },
  {
   "cell_type": "code",
   "execution_count": 19,
   "metadata": {},
   "outputs": [
    {
     "name": "stdout",
     "output_type": "stream",
     "text": [
      "0.0    10106\n",
      "1.0     5681\n",
      "2.0     1747\n",
      "3.0      647\n",
      "Name: parks_around3000, dtype: int64\n"
     ]
    }
   ],
   "source": [
    "print(df['parks_around3000'].value_counts())"
   ]
  },
  {
   "cell_type": "code",
   "execution_count": 20,
   "metadata": {},
   "outputs": [
    {
     "name": "stdout",
     "output_type": "stream",
     "text": [
      "441.0     67\n",
      "173.0     41\n",
      "392.0     41\n",
      "456.0     40\n",
      "471.0     32\n",
      "          ..\n",
      "863.0      1\n",
      "2880.0     1\n",
      "969.0      1\n",
      "1011.0     1\n",
      "775.0      1\n",
      "Name: parks_nearest, Length: 995, dtype: int64\n"
     ]
    }
   ],
   "source": [
    "print(df['parks_nearest'].value_counts())"
   ]
  },
  {
   "cell_type": "code",
   "execution_count": 21,
   "metadata": {},
   "outputs": [
    {
     "name": "stdout",
     "output_type": "stream",
     "text": [
      "0.0    9071\n",
      "1.0    5717\n",
      "2.0    1892\n",
      "3.0    1501\n",
      "Name: ponds_around3000, dtype: int64\n"
     ]
    }
   ],
   "source": [
    "print(df['ponds_around3000'].value_counts())"
   ]
  },
  {
   "cell_type": "code",
   "execution_count": 22,
   "metadata": {},
   "outputs": [
    {
     "name": "stdout",
     "output_type": "stream",
     "text": [
      "427.0     70\n",
      "454.0     41\n",
      "153.0     40\n",
      "433.0     39\n",
      "564.0     37\n",
      "          ..\n",
      "742.0      1\n",
      "1019.0     1\n",
      "948.0      1\n",
      "1275.0     1\n",
      "193.0      1\n",
      "Name: ponds_nearest, Length: 1096, dtype: int64\n"
     ]
    }
   ],
   "source": [
    "print(df['ponds_nearest'].value_counts())"
   ]
  },
  {
   "cell_type": "code",
   "execution_count": 23,
   "metadata": {},
   "outputs": [
    {
     "name": "stdout",
     "output_type": "stream",
     "text": [
      "45.0      880\n",
      "60.0      538\n",
      "7.0       234\n",
      "30.0      208\n",
      "90.0      204\n",
      "         ... \n",
      "1110.0      1\n",
      "1049.0      1\n",
      "951.0       1\n",
      "693.0       1\n",
      "773.0       1\n",
      "Name: days_exposition, Length: 1141, dtype: int64\n",
      "count    20518.000000\n",
      "mean       180.888634\n",
      "std        219.727988\n",
      "min          1.000000\n",
      "25%         45.000000\n",
      "50%         95.000000\n",
      "75%        232.000000\n",
      "max       1580.000000\n",
      "Name: days_exposition, dtype: float64\n"
     ]
    }
   ],
   "source": [
    "print(df['days_exposition'].value_counts())\n",
    "print(df['days_exposition'].describe())"
   ]
  },
  {
   "cell_type": "markdown",
   "metadata": {},
   "source": [
    "В столбце days_exposition (сколько дней было размещено объявление (от публикации до снятия)) имеется 20518 заполненных значения из 23699 строк, причем, минимальное значение в этом столбце 1 день. Логично преположить, что в случае, если объявление еще активно, то в этой строке ничего не указывалось, т.е. можно заполнить пропуски значением 0, а так же поменять тип данных этого столбца с float на int, т.к. количество дней может быть только целым числом."
   ]
  },
  {
   "cell_type": "markdown",
   "metadata": {},
   "source": [
    "### Вывод"
   ]
  },
  {
   "cell_type": "markdown",
   "metadata": {},
   "source": [
    "Таблица с исходными данными имеет 23699 строк, т.е. в таблице имеются данные о 23699 квартирах. Столбцы total_images (число фотографий квартиры в объявлении), last_price (цена на момент снятия с публикации), total_area (площадь квартиры в квадратных метрах (м²)), first_day_exposition (дата публикации), rooms (число комнат), studio (квартира-студия (булев тип)), open_plan (свободная планировка (булев тип)) заполнены полностью, в остальных столбцах встречается различное количество пропусков. В столбце ceiling_height (высота потолков (м)) 14504 значения заполнены из 23699, максимальное значение столбца 100 м, что кажется сомнительным. Эти значения требуют более тщательного рассмотрения и дополнительного уточнения исходных данных, т.к. в типовых квартирах высота потолков не больше 4 м. В столбце living_area (жилая площадь в квадратных метрах(м²)) минимальное значение составляет 2м², что вызывает сомнения и требует более тщательного рассмотрения и дополнительного уточнения исходных данных. \n",
    "В столбцах: airports_nearest (расстояние до ближайшего аэропорта в метрах (м)), balcony (число балконов), ceiling_height (высота потолков (м)), cityCenters_nearest (расстояние до центра города (м)), days_exposition (сколько дней было размещено объявление (от публикации до снятия)), floor (этаж), floors_total (всего этажей в доме), is_apartment (апартаменты (булев тип)), kitchen_area (площадь кухни в квадратных метрах (м²)), living_area (жилая площадь в квадратных метрах(м²)), locality_name (название населённого пункта), parks_around3000 (число парков в радиусе 3 км), parks_nearest (расстояние до ближайшего парка (м)), ponds_around3000 (число водоёмов в радиусе 3 км), ponds_nearest (расстояние до ближайшего водоёма (м)) имеется некоторое количество пропусков. \n",
    "В столбце \"число балконов\" не указывалось количество балконов, скорее всего, при их отсутствии, поэтому будет логично заменить пропуски на 0, а тип столбца следует изменить с float на int, т.к. количество балконов может быть только целым числом. Столбец \"апартаменты\" (is_apartment) имеет булев тип, его заполняли в случае, если ответ положительный (True) и, иногда, если отрицательный (False). Исходя из этих соображений пропущенный значения столбца is_apartment (апартаменты (булев тип)) заполним значениями False. В столбце days_exposition (сколько дней было размещено объявление (от публикации до снятия)) имеется 20518 заполненных значения из 23699 строк, причем, минимальное значение в этом столбце 1 день. Логично преположить, что в случае, если объявление еще активно, то в этой строке ничего не указывалось, т.е. можно заполнить пропуски значением 0, а так же поменять тип данных этого столбца с float на int, т.к. количество дней может быть только целым числом.\n",
    "Столбец first_day_exposition (дата публикации) не имеет пропущенных значений, но формат даты необходимо перевести в datetime."
   ]
  },
  {
   "cell_type": "markdown",
   "metadata": {},
   "source": [
    "### 2. Предобработка данных<a id='2'></a>"
   ]
  },
  {
   "cell_type": "code",
   "execution_count": 24,
   "metadata": {
    "scrolled": false
   },
   "outputs": [
    {
     "name": "stdout",
     "output_type": "stream",
     "text": [
      "False    23649\n",
      "True        50\n",
      "Name: is_apartment, dtype: int64\n"
     ]
    }
   ],
   "source": [
    "#обработка пропущенных значений\n",
    "df['balcony']=df['balcony'].fillna(0)\n",
    "df['is_apartment']=df['is_apartment'].fillna(False)\n",
    "df['days_exposition']=df['days_exposition'].fillna(0)\n",
    "print(df['is_apartment'].value_counts())"
   ]
  },
  {
   "cell_type": "markdown",
   "metadata": {},
   "source": [
    "В столбцах: balcony (число балконов), days_exposition (сколько дней было размещено объявление (от публикации до снятия)), is_apartment (апартаменты (булев тип)) были заменены пропущенные значения. "
   ]
  },
  {
   "cell_type": "code",
   "execution_count": 25,
   "metadata": {},
   "outputs": [
    {
     "name": "stdout",
     "output_type": "stream",
     "text": [
      "0\n",
      "23334\n"
     ]
    }
   ],
   "source": [
    "#обработка дубликатов\n",
    "print(df.duplicated().sum())\n",
    "print(df['locality_name'].duplicated().sum())"
   ]
  },
  {
   "cell_type": "markdown",
   "metadata": {},
   "source": [
    "Анализ методом duplicated().sum() дубликатов не обнаружил."
   ]
  },
  {
   "cell_type": "code",
   "execution_count": 26,
   "metadata": {},
   "outputs": [
    {
     "name": "stdout",
     "output_type": "stream",
     "text": [
      "<class 'pandas.core.frame.DataFrame'>\n",
      "RangeIndex: 23699 entries, 0 to 23698\n",
      "Data columns (total 22 columns):\n",
      " #   Column                Non-Null Count  Dtype         \n",
      "---  ------                --------------  -----         \n",
      " 0   total_images          23699 non-null  int64         \n",
      " 1   last_price            23699 non-null  float64       \n",
      " 2   total_area            23699 non-null  float64       \n",
      " 3   first_day_exposition  23699 non-null  datetime64[ns]\n",
      " 4   rooms                 23699 non-null  int64         \n",
      " 5   ceiling_height        14504 non-null  float64       \n",
      " 6   floors_total          23613 non-null  float64       \n",
      " 7   living_area           21796 non-null  float64       \n",
      " 8   floor                 23699 non-null  int64         \n",
      " 9   is_apartment          23699 non-null  bool          \n",
      " 10  studio                23699 non-null  bool          \n",
      " 11  open_plan             23699 non-null  bool          \n",
      " 12  kitchen_area          21421 non-null  float64       \n",
      " 13  balcony               23699 non-null  int32         \n",
      " 14  locality_name         23699 non-null  object        \n",
      " 15  airports_nearest      18157 non-null  float64       \n",
      " 16  cityCenters_nearest   18180 non-null  float64       \n",
      " 17  parks_around3000      18181 non-null  float64       \n",
      " 18  parks_nearest         8079 non-null   float64       \n",
      " 19  ponds_around3000      18181 non-null  float64       \n",
      " 20  ponds_nearest         9110 non-null   float64       \n",
      " 21  days_exposition       23699 non-null  int32         \n",
      "dtypes: bool(3), datetime64[ns](1), float64(12), int32(2), int64(3), object(1)\n",
      "memory usage: 3.3+ MB\n",
      "None\n"
     ]
    }
   ],
   "source": [
    "#замена типов данных\n",
    "df['balcony']=df['balcony'].astype('int')\n",
    "df['locality_name']=df['locality_name'].astype('str')\n",
    "df['days_exposition']=df['days_exposition'].astype('int')\n",
    "df['first_day_exposition']=pd.to_datetime(df['first_day_exposition'], format='%Y-%m-%dT%H:%M:%S')\n",
    "print(df.info())"
   ]
  },
  {
   "cell_type": "markdown",
   "metadata": {},
   "source": [
    "Были изменены типы данных в столбцах balcony (число балконов) и days_exposition (сколько дней было размещено объявление (от публикации до снятия)), locality_name(название населённого пункта) и first_day_exposition (дата публикации)."
   ]
  },
  {
   "cell_type": "code",
   "execution_count": 27,
   "metadata": {},
   "outputs": [
    {
     "ename": "ModuleNotFoundError",
     "evalue": "No module named 'pymystem3'",
     "output_type": "error",
     "traceback": [
      "\u001b[1;31m---------------------------------------------------------------------------\u001b[0m",
      "\u001b[1;31mModuleNotFoundError\u001b[0m                       Traceback (most recent call last)",
      "\u001b[1;32m<ipython-input-27-ce9098284584>\u001b[0m in \u001b[0;36m<module>\u001b[1;34m\u001b[0m\n\u001b[1;32m----> 1\u001b[1;33m \u001b[1;32mfrom\u001b[0m \u001b[0mpymystem3\u001b[0m \u001b[1;32mimport\u001b[0m \u001b[0mMystem\u001b[0m\u001b[1;33m\u001b[0m\u001b[1;33m\u001b[0m\u001b[0m\n\u001b[0m\u001b[0;32m      2\u001b[0m \u001b[1;32mfrom\u001b[0m \u001b[0mcollections\u001b[0m \u001b[1;32mimport\u001b[0m \u001b[0mCounter\u001b[0m\u001b[1;33m\u001b[0m\u001b[1;33m\u001b[0m\u001b[0m\n\u001b[0;32m      3\u001b[0m \u001b[0mm\u001b[0m \u001b[1;33m=\u001b[0m \u001b[0mMystem\u001b[0m\u001b[1;33m(\u001b[0m\u001b[1;33m)\u001b[0m\u001b[1;33m\u001b[0m\u001b[1;33m\u001b[0m\u001b[0m\n\u001b[0;32m      4\u001b[0m \u001b[0mlemmas\u001b[0m\u001b[1;33m=\u001b[0m\u001b[1;33m[\u001b[0m\u001b[1;33m]\u001b[0m\u001b[1;33m\u001b[0m\u001b[1;33m\u001b[0m\u001b[0m\n\u001b[0;32m      5\u001b[0m \u001b[1;32mfor\u001b[0m \u001b[0mi\u001b[0m \u001b[1;32min\u001b[0m \u001b[0mrange\u001b[0m\u001b[1;33m(\u001b[0m\u001b[0mdf\u001b[0m\u001b[1;33m.\u001b[0m\u001b[0mshape\u001b[0m\u001b[1;33m[\u001b[0m\u001b[1;36m0\u001b[0m\u001b[1;33m]\u001b[0m\u001b[1;33m)\u001b[0m\u001b[1;33m:\u001b[0m\u001b[1;33m\u001b[0m\u001b[1;33m\u001b[0m\u001b[0m\n",
      "\u001b[1;31mModuleNotFoundError\u001b[0m: No module named 'pymystem3'"
     ]
    }
   ],
   "source": [
    "from pymystem3 import Mystem\n",
    "from collections import Counter\n",
    "m = Mystem()\n",
    "lemmas=[]\n",
    "for i in range(df.shape[0]):\n",
    "    lemmas += m.lemmatize(df['locality_name'][i])\n",
    "print(Counter(lemmas).most_common(200))\n",
    "\n",
    "df['locality_name']=df['locality_name'].str.replace('ё', 'е')\n",
    "print(len(df['locality_name'].unique()))\n",
    "print(df['locality_name'].unique())"
   ]
  },
  {
   "cell_type": "markdown",
   "metadata": {},
   "source": [
    "В некоторых случаях название населённого пункта было написано как \"посёлок...\", а в остальных-как \"поселок...\". Следует привести к одинаковому написанию, чтобы не было дублирования названия одного и того же населённого пункта, как, например, 'посёлок Пансионат Зелёный Бор' и 'поселок Пансионат Зелёный Бор'. Из этих соображений буква ё была заменена на е во всём столбце."
   ]
  },
  {
   "cell_type": "code",
   "execution_count": null,
   "metadata": {},
   "outputs": [],
   "source": [
    "#проверка наличия дубликатов после внесения изменений в столбец locality_name\n",
    "print(df.duplicated().sum())\n",
    "print(df['locality_name'].duplicated().sum())"
   ]
  },
  {
   "cell_type": "markdown",
   "metadata": {},
   "source": [
    "После внесения изменений в столбец locality_name (название населённого пункта) новые дубликаты не появились"
   ]
  },
  {
   "cell_type": "markdown",
   "metadata": {},
   "source": [
    "### Вывод"
   ]
  },
  {
   "cell_type": "markdown",
   "metadata": {},
   "source": [
    "Были изменены типы данных в столбцах balcony (число балконов) и days_exposition (сколько дней было размещено объявление (от публикации до снятия)), locality_name(название населённого пункта) и first_day_exposition (дата публикации). Анализ методом duplicated().sum() дубликатов не обнаружил. В столбцах: balcony (число балконов), days_exposition (сколько дней было размещено объявление (от публикации до снятия)), is_apartment (апартаменты (булев тип)) были заменены пропущенные значения. Был проведен анализ уникальных значений и лемматизация столбца locality_name (название населённого пункта). В некоторых случаях название населённого пункта было написано как \"посёлок...\", а в остальных-как \"поселок...\". Следует привести к одинаковому написанию, чтобы не было дублирования названия одного и того же населённого пункта, как, например, 'посёлок Пансионат Зелёный Бор' и 'поселок Пансионат Зелёный Бор'. Из этих соображений буква ё была заменена на е во всём столбце. "
   ]
  },
  {
   "cell_type": "markdown",
   "metadata": {},
   "source": [
    "### 3. Вычисление и добавление дополнительных параметров в таблицу <a id='3'></a>"
   ]
  },
  {
   "cell_type": "code",
   "execution_count": null,
   "metadata": {},
   "outputs": [],
   "source": [
    "#добавляем в таблицу столбец с ценой квадратного метра\n",
    "df['price_kvm']=df['last_price']/df['total_area']\n",
    "#добавляем в таблицу столбец с днем недели публикации объявления, где 0-понедельник, а 6- воскресенье\n",
    "df['weekday']=df['first_day_exposition'].dt.weekday\n",
    "#добавляем в таблицу столбец с номером месяца публикации объявления\n",
    "df['month']=df['first_day_exposition'].dt.month\n",
    "#добавляем в таблицу столбец с годом публикации объявления\n",
    "df['year']=df['first_day_exposition'].dt.year\n",
    "#добавляем в таблицу столбец с категорией этажа(первый, последний и другое)\n",
    "def floor_key(row):\n",
    "    floor=row['floor']\n",
    "    floors_total=row['floors_total']\n",
    "    if floor==1:\n",
    "        return 'первый'\n",
    "    if floor==floors_total:\n",
    "        return 'последний'\n",
    "    else:\n",
    "        return 'другое'\n",
    "df['floor_name']=df.apply(floor_key, axis=1)\n",
    "#добавляем в таблицу соотношение жилой площади к общей площади квартиры\n",
    "df['living/total']=df['living_area']/df['total_area']\n",
    "#добавляем в таблицу соотношение площади кухни к общей площади квартиры\n",
    "df['kitchen/total']=df['kitchen_area']/df['total_area']\n",
    "print(df.head())"
   ]
  },
  {
   "cell_type": "markdown",
   "metadata": {},
   "source": [
    "### Вывод"
   ]
  },
  {
   "cell_type": "markdown",
   "metadata": {},
   "source": [
    "В исходную таблицу были добавлены столбцы: с ценой квадратного метра 'price_kvm', равного отношению цены('last_price') к общей площади квартиры('total_area'); с порядковым номером дня недели публикации объявления, где 0-понедельник, а 6- воскресенье; с номером месяца публикации объявления; с годом публикации объявления; с категорией этажа(первый, последний и другое); с соотношением жилой площади к общей площади квартиры (df['living_area']/df['total_area']); с соотношением площади кухни к общей площади квартиры (df['kitchen_area']/df['total_area'])."
   ]
  },
  {
   "cell_type": "markdown",
   "metadata": {},
   "source": [
    "### 4. Проведение исследовательского анализа данных <a id='4'></a>"
   ]
  },
  {
   "cell_type": "markdown",
   "metadata": {},
   "source": [
    "Анализ параметров: площадь, цена, число комнат, высота потолков"
   ]
  },
  {
   "cell_type": "code",
   "execution_count": null,
   "metadata": {
    "scrolled": false
   },
   "outputs": [],
   "source": [
    "import matplotlib.pyplot as plt\n",
    "df.hist('total_area', bins=100,range=(0,100))\n",
    "\n",
    "print(df['total_area'].value_counts().head(20))\n",
    "print(df['total_area'].describe())"
   ]
  },
  {
   "cell_type": "markdown",
   "metadata": {},
   "source": [
    "Наибольше количество объявлений было о продаже квартир площадью от 31 до 45 м² и около 60 м² и 80 м². "
   ]
  },
  {
   "cell_type": "code",
   "execution_count": null,
   "metadata": {},
   "outputs": [],
   "source": [
    "df.hist('rooms', bins=50,range=(0,20))\n",
    "print(df['rooms'].value_counts())\n",
    "print(df['rooms'].describe())"
   ]
  },
  {
   "cell_type": "markdown",
   "metadata": {},
   "source": [
    "Наибольше количество объявлений было о продаже 1-3 комнатных квартир. "
   ]
  },
  {
   "cell_type": "code",
   "execution_count": null,
   "metadata": {},
   "outputs": [],
   "source": [
    "df.hist('ceiling_height', bins=100,range=(0,20))\n",
    "print(df['ceiling_height'].value_counts())\n",
    "print(df['ceiling_height'].describe())"
   ]
  },
  {
   "cell_type": "markdown",
   "metadata": {},
   "source": [
    "Высота потолков (столбец ceiling_height), судя по соответствующей гистограмме, в основном, стандартная от 2,5 до 3,5 м, но есть и выпадающие значения: 25 и 100м."
   ]
  },
  {
   "cell_type": "code",
   "execution_count": null,
   "metadata": {},
   "outputs": [],
   "source": [
    "df.hist('last_price', bins=100)\n",
    "df.hist('last_price', bins=100, range=(0,20000000))\n",
    "plt.title('Ограничение цены: от 0 до 20000000')\n",
    "print(df['last_price'].value_counts())\n",
    "print(df['last_price'].describe())"
   ]
  },
  {
   "cell_type": "markdown",
   "metadata": {},
   "source": [
    "Анализ столбца last_price (цена на момент снятия с публикации) показал, что, в основном, квартиры стоят 3-5млн, а наиболее частой ценой является - 4500000р."
   ]
  },
  {
   "cell_type": "markdown",
   "metadata": {},
   "source": [
    "### Вывод"
   ]
  },
  {
   "cell_type": "markdown",
   "metadata": {},
   "source": [
    "Анализ столбцов rooms (количество комнат) и total_area(общая площадь) показал, что наибольше количество объявлений было о продаже 1-3 комнатных типовых квартир площадью от 31 до 45 м² и около 60 м² и 80 м². В столбце rooms (количество комнат) 197 строк имеет значение 0, возможно, это ошибка ввода или речь шла о продаже комнат, а не полноценных квартир. Объявления о продаже квартир, имеющих больше 5 комнат, встречаются сравнительно редко. Высота потолков (столбец ceiling_height), судя по соответствующей гистограмме, в основном, стандартная от 2,5 до 3,5 м, но есть и выпадающие значения: 25 и 100м."
   ]
  },
  {
   "cell_type": "markdown",
   "metadata": {},
   "source": [
    "#### Изучение времени продажи квартиры. Построение гистограммы. Вычисление среднего и медианы. "
   ]
  },
  {
   "cell_type": "code",
   "execution_count": null,
   "metadata": {},
   "outputs": [],
   "source": [
    "mean_days=df['days_exposition'].mean()\n",
    "median_days=df['days_exposition'].median()\n",
    "print('Среднее время продажи квартир: ', format(mean_days))\n",
    "print('Медиана времени продажи квартир: ', format(median_days))\n",
    "print(df['days_exposition'].describe())\n",
    "print(df['days_exposition'].value_counts())\n",
    "df.hist('days_exposition', bins=100)\n",
    "df1=df.query('days_exposition>0')\n",
    "mean_days1=df1['days_exposition'].mean()\n",
    "median_days1=df1['days_exposition'].median()\n",
    "print('Среднее время продажи квартир: ', format(mean_days))\n",
    "print('Медиана времени продажи квартир: ', format(median_days))\n",
    "print(df1['days_exposition'].describe())\n",
    "print(df1['days_exposition'].value_counts())\n",
    "df1.hist('days_exposition', bins=100)"
   ]
  },
  {
   "cell_type": "markdown",
   "metadata": {},
   "source": [
    "Увеличим последнюю получившуюся гистограмму, чтобы рассмотреть подробнее возможный всплекс"
   ]
  },
  {
   "cell_type": "code",
   "execution_count": null,
   "metadata": {},
   "outputs": [],
   "source": [
    "df1.hist('days_exposition', bins=40, range=(0,300))\n",
    "df1.hist('days_exposition', bins=100)"
   ]
  },
  {
   "cell_type": "markdown",
   "metadata": {},
   "source": [
    "На увеличенной гистограмме хорошо видно, что встречаются всплески примерно около 50, 75 и 90го дня"
   ]
  },
  {
   "cell_type": "markdown",
   "metadata": {},
   "source": [
    "### Вывод"
   ]
  },
  {
   "cell_type": "markdown",
   "metadata": {},
   "source": [
    "Среднее время продажи квартир около 156 дней, медиана времени продажи квартир - 74 дня. Наиболее часто встречается значение 0, что значит, что на момент сбора данных в таблицу объявление было активно, т.е. квартира ещё не продана. Для анализа скорости продажи квартир подходят только записи об уже проданных квартирах, поэтому при дальнейшем анализе строки столбца days_exposition, содержащие значения=0, не будут учтены. В таблицу df1 были собраны данные данные для которых значения столбца days_exposition>0. Медиана и среднее значение не изменились, что значит, что чаще всего(что хорошо видно на гистограмме) продажа квартиры занимает около 74 дней. Можно сказать, что квартира продалась быстро, если поиск покупателей занял 45 дней и меньше, и квартира продалась медленно, если на это потребовалось более 232 дней."
   ]
  },
  {
   "cell_type": "markdown",
   "metadata": {},
   "source": [
    "#### Исключение редких и выбивающихся значений и выявление особенностей"
   ]
  },
  {
   "cell_type": "code",
   "execution_count": null,
   "metadata": {},
   "outputs": [],
   "source": [
    "df2=df1.query('days_exposition<400')\n",
    "a=len(df2)/len(df)\n",
    "b=len(df2)/len(df1)\n",
    "print('При выделении значений 0<days_exposition<400 оставим {:.0%} от начальной таблицы или {:.0%} от таблицы, расмотренной в прошлом пункте, содержащей информацию только о завершенных сделках(т.е. days_exposition>0)'.format(a, b))\n",
    "df2.hist('days_exposition', bins=100)\n",
    "print(df2['days_exposition'].describe())\n",
    "print(df2['days_exposition'].value_counts())"
   ]
  },
  {
   "cell_type": "markdown",
   "metadata": {},
   "source": [
    "### Вывод"
   ]
  },
  {
   "cell_type": "markdown",
   "metadata": {},
   "source": [
    "На значении 400 дней можно обрезать гистограмму, т.к. чем больше количество дней, тем меньше частота таких объявлений. Сохраним эту часть таблицы в df2. На гистограмме, построенной по новой таблице df2, т.е. содержащей записи об объявлениях с условием 0<days_exposition<400, ярко видны всплески: 7 дней, 45, 60 и 90 дней. При выделении значений 0<days_exposition<400 оставим 75% от начальной таблицы или 87% от таблицы, расмотренной в прошлом пункте, содержащей информацию только о завершенных сделках(т.е. days_exposition>0)"
   ]
  },
  {
   "cell_type": "markdown",
   "metadata": {},
   "source": [
    "#### Выявление факторов, влияющих на стоимость квартиры. Зависимость цены от квадратного метра, числа комнат, этажа (первого или последнего), удалённости от центра, от даты размещения: дня недели, месяца и года. Выявление 10 населённых пунктов с наибольшим числом объявлений. Вычисление средней цену квадратного метра в этих населённых пунктах. Выявление населённых пунктов с самой высокой и низкой стоимостью жилья. "
   ]
  },
  {
   "cell_type": "code",
   "execution_count": null,
   "metadata": {
    "scrolled": false
   },
   "outputs": [],
   "source": [
    "import matplotlib.pyplot as plt\n",
    "df3=df[['last_price', 'total_area', 'rooms', 'floor_name', 'cityCenters_nearest']]\n",
    "df4=df3[['last_price', 'total_area', 'rooms', 'cityCenters_nearest']]\n",
    "pd.plotting.scatter_matrix(df3, figsize=(12, 12))\n",
    "print('Коэффициент корреляции между общей площадью квартиры и ценой:', df3['last_price'].corr(df3['total_area']))\n",
    "print('Коэффициент корреляции между количеством комнат и ценой:', df3['last_price'].corr(df3['rooms']))\n",
    "print('Коэффициент корреляции между расстоянием до центра и ценой:', df3['last_price'].corr(df3['cityCenters_nearest']))"
   ]
  },
  {
   "cell_type": "code",
   "execution_count": null,
   "metadata": {},
   "outputs": [],
   "source": [
    "for name, group_data in df3.groupby('floor_name'):\n",
    "    group_data.plot(y='last_price', title=name)\n",
    "table_floor=df3.pivot_table(index='floor_name', values='last_price', aggfunc='median')\n",
    "table_floor.columns=['median_price']\n",
    "table_floor.plot()\n",
    "display(table_floor)"
   ]
  },
  {
   "cell_type": "code",
   "execution_count": null,
   "metadata": {},
   "outputs": [],
   "source": [
    "location=df.pivot_table(index='locality_name', values='last_price', aggfunc=['count'])\n",
    "location.columns=['amount']\n",
    "top_location=location.sort_values(by='amount', ascending=False).head(10)\n",
    "top_location_price=df.query('locality_name in @top_location.index')\n",
    "print('10 населённых пунктов с наибольшим количеством объявлений: ', top_location.index)\n",
    "top_location_price_table=top_location_price.pivot_table(index='locality_name', values='price_kvm', aggfunc='mean')\n",
    "top_location_price_table.columns=['mean_price_for_kvm']\n",
    "display(top_location_price_table)\n",
    "print(top_location)\n",
    "x1=top_location_price_table.sort_values(by='mean_price_for_kvm', ascending=False)\n",
    "print('Наибольшая стоимость жилья: ', x1.head(1))\n",
    "x2=top_location_price_table.sort_values(by='mean_price_for_kvm', ascending=True)\n",
    "print('Наименьшая стоимость жилья: ', x2.head(1))"
   ]
  },
  {
   "cell_type": "code",
   "execution_count": null,
   "metadata": {},
   "outputs": [],
   "source": [
    "list_col=['weekday', 'month', 'year']\n",
    "\n",
    "for i in list_col:\n",
    "    table=df.pivot_table(index=i, values='last_price', aggfunc='median')\n",
    "    table.columns=['median_price']\n",
    "    table.plot()\n",
    "    display(table)"
   ]
  },
  {
   "cell_type": "markdown",
   "metadata": {},
   "source": [
    "### Вывод"
   ]
  },
  {
   "cell_type": "markdown",
   "metadata": {},
   "source": [
    "Из матрицы корреляции можно сделать вывод, что цена линейно зависит от общей площади квартиры, числа комнат, а так же от расположения: чем ближе к центру, тем выше цена, ближе всех к 1 коэффициент корреляции между общей площадью и ценой: 0.65, т.е. влияние общей площади на цену квартиры сильнее других параметров. Стоит отметить, что цена зависит от близости к центру до отметки в 20000м, далее цена от близости к центру не зависит. Была исследована зависимость цены от даты размещения: дня недели, месяца и года. На графиках можно видеть, что медианное значение цены наибольшее для объявлений, размещенных во вторник, в апреле и в 2014году. Цена квартир линейно падает в зависимости от дня недели размещения от максимального значения во вторник до минимального значения в субботу и воскресенье. Так же наблюдается минимум цены квартиры для объявлений, размещенных в июне. Возможно, такая особенность связана с сезоном отпусков, т.е. люди летом продают недвижимость только в случае острой необходимости и готовы продавать значительно дешевле. Так же наблюдается падение цен на квартиры от 2014 года(максимальное значение) до 2017 (минимальное значение), а затем, в 2018-2019 - небольшой плавный рост. В рамках анализа были выбраны населнные пункты с наибольшим количеством объявлений. Ими стали: 'Санкт-Петербург', 'поселок Мурино', 'поселок Шушары', 'Всеволожск',        'Пушкин', 'Колпино', 'поселок Парголово', 'Гатчина', 'деревня Кудрово', 'Выборг'; из них наибольшая стоимость квартиры в Санкт-Петербурге - медианное значение: 114849.008794, а наименьшая - в Выборге - медианное значение: 58141.909153."
   ]
  },
  {
   "cell_type": "markdown",
   "metadata": {},
   "source": [
    "#### График зависимости цены от удалённости от центра"
   ]
  },
  {
   "cell_type": "code",
   "execution_count": null,
   "metadata": {},
   "outputs": [],
   "source": [
    "df6=df\n",
    "#найдем и уберем пустые значения в столбце, описывающем расстояние до центра\n",
    "df6['cityCenters_nearest'].isnull().sum()\n",
    "df6.dropna(subset=['cityCenters_nearest'], inplace=True)\n",
    "df6['cityCenters_nearest_km']=df6['cityCenters_nearest']/1000\n",
    "df6['cityCenters_nearest_km']=df6['cityCenters_nearest_km'].astype('int')\n",
    "#выделим только квартиры в Санкт-Петербурге\n",
    "df7=df6.query('locality_name==\"Санкт-Петербург\"')\n",
    "print(df7['cityCenters_nearest_km'].value_counts())\n",
    "#print(df7['cityCenters_nearest_km'].describe())\n",
    "#df6=df7[['locality_name', 'cityCenters_nearest_km', 'last_price']]\n",
    "table_distance=df7.pivot_table(index='cityCenters_nearest_km', values='last_price', aggfunc='mean')\n",
    "table_distance.columns=['mean_last_price']\n",
    "display(table_distance)\n",
    "table_distance.plot(grid=True, xlim=(0, 27))\n"
   ]
  },
  {
   "cell_type": "markdown",
   "metadata": {},
   "source": [
    "### Вывод"
   ]
  },
  {
   "cell_type": "markdown",
   "metadata": {},
   "source": [
    "Анализ количества объявлений о продаже квартир в зависимости от расстояния до центра Санкт-Петербурга показывает, что наибольшее количество объявлений было о квартирах, находящихся на расстоянии 10-15км от центра, а о квартирах на расстоянии меньше 10 км - несколько меньше, но стоит отметить, что наименьшее количество объявлений о продажах квартир на максимальном расстоянии, т.е. 20 км и более. Рассмотрим график зависимости среднего значения цены квартиры от расстояния до центра: от 5км до 8км от центра наблюдается резкое падение среднего значения цены и выход линии графика на планку. Отсюда можно сделать вывод, что центральной зоной можно считать районы, расположеные на расстоянии до 8км."
   ]
  },
  {
   "cell_type": "markdown",
   "metadata": {},
   "source": [
    "#### Анализ сегмента квартир в центре"
   ]
  },
  {
   "cell_type": "code",
   "execution_count": null,
   "metadata": {
    "scrolled": false
   },
   "outputs": [],
   "source": [
    "#выделим сегмент квартир в центре\n",
    "df8=df7.query('cityCenters_nearest_km<=8')\n",
    "#df8.hist('total_area', bins=100, range=(0, 200))\n",
    "print(df8['total_area'].value_counts())\n",
    "print(df8['rooms'].value_counts())\n",
    "print(df8['ceiling_height'].value_counts())\n",
    "print(df8.sort_values(by='last_price', ascending=False).head(10))\n",
    "df8_price=df8.pivot_table(index='cityCenters_nearest_km', values='last_price', aggfunc='median')\n",
    "df8_price.columns=['median_last_price']\n",
    "display(df8_price)\n",
    "df8.plot(x='ceiling_height', y='last_price', xlim=(2,4), style='o')\n",
    "df8_rooms=df8.pivot_table(index='rooms', values='last_price', aggfunc='median')\n",
    "#df8_rooms.hist(bins=10, range=(0, 10))\n",
    "df8_rooms.columns=['median_last_price']\n",
    "display(df8_rooms)\n",
    "df8_height=df8.pivot_table(index='ceiling_height', values='last_price', aggfunc='median')\n",
    "#df8_height.hist(bins=50, range=(2, 10))\n",
    "df8_height.columns=['median_last_price']\n",
    "display(df8_height)\n",
    "df9=df8[['total_area', 'rooms','ceiling_height','last_price']]\n",
    "df10=df7[['total_area', 'rooms','ceiling_height','last_price']]\n",
    "pd.plotting.scatter_matrix(df9, figsize=(12, 12))\n",
    "plt.title('в центре')\n",
    "pd.plotting.scatter_matrix(df10, figsize=(12, 12))\n",
    "plt.title('по всему городу')\n",
    "df8.pivot_table(index='floor', values='last_price', aggfunc='median').plot()\n",
    "df8.pivot_table(index='cityCenters_nearest_km', values='last_price', aggfunc='median').plot()\n",
    "df8.pivot_table(index='year', values='last_price', aggfunc='median').plot()\n",
    "df8.pivot_table(index='month', values='last_price', aggfunc='median').plot()\n",
    "df8.pivot_table(index='weekday', values='last_price', aggfunc='median').plot()\n",
    "df8.pivot_table(index='weekday', values='price_kvm', aggfunc='median').plot()\n",
    "df8.pivot_table(index='first_day_exposition', values='last_price', aggfunc='median').plot()\n",
    "df7.pivot_table(index='floor', values='last_price', aggfunc='median').plot(title='по всему городу')\n",
    "df7.pivot_table(index='cityCenters_nearest_km', values='last_price', aggfunc='median').plot(title='по всему городу')\n",
    "df7.pivot_table(index='year', values='last_price', aggfunc='median').plot(title='по всему городу')\n",
    "df7.pivot_table(index='month', values='last_price', aggfunc='median').plot(title='по всему городу')\n",
    "df7.pivot_table(index='weekday', values='last_price', aggfunc='median').plot(title='по всему городу')\n",
    "df7.pivot_table(index='weekday', values='price_kvm', aggfunc='median').plot(title='по всему городу')\n",
    "df7.pivot_table(index='first_day_exposition', values='last_price', aggfunc='median').plot(title='по всему городу')"
   ]
  },
  {
   "cell_type": "markdown",
   "metadata": {},
   "source": [
    "### Вывод"
   ]
  },
  {
   "cell_type": "markdown",
   "metadata": {},
   "source": [
    "Анализ влияния параметров: площадь, цена, число комнат, высота потолков показал, что наиболее часто в центре выставляют на продажу 3 и 2-х комнатные квартиры типой застройки с высотой потолков 3м. Так же можно заметить из матрицы корреляций, что цена линейно зависит от площади, но от количества комнат цена зависит не так явно. Разгадка может быть в том, что при одной и той же площади в разных типах квартир - разное количество комнат, поэтому цена более явно привязана к площади квартиры, а количество комнат и высота потолков больше характеризуют тип дома. Из графиков, описывающих зависимость цены от даты публикации, этажа и расстояния от центра, можно сделать вывод, что цена имеет максимум при этаже, равном 25(это максимальное значение этажа в центральном районе); имеется некоторое падение цены при удаленности от центра на 3км и резкий рост - при 4 км, но при дальнейшем увеличении расстояния цена продолжает падать; цены на квартиры упали до минимума в 2017-2018 годах, а своего максимума достигали в 2014г.; цена идет на резкий спад только к январе, а в остальных месяцах немного увеличивает в нечтные месяцы, а в чётные-можно заметить некоторое падение; в субботу и во вторник самые низкие цены. Сравнение зависимостей медианных значений цены квартиры и стоимости квадратного метра квартиры в зависимости от дня недели говорит о том, что во вторник чаще выставляют на продажу наиболее дешёвые квартиры, а в субботу квартиры имеют минимальную цену, но при этом, цена за квадратный метр близка к максимуму, т.е. можно сделать вывод, что субботу выставляют на продажу чаще небольшие квартиры. Если посмотреть на графики тех же зависимостей, но построенные по данным по всему городу, то можно заметить, что цена начинает резко расти при величине этаже выше 27 и достигает максимума на отметке - 30, затем падает до приблизительно среднего значения на отметке этажа - 32 и снова резко растет вверх. График зависимости цены от расстояния от центра демонстрирует, что цена при растоянии выше 8км выходит на планку, но имеет небольшой скачок вверх на отметке 20км и достаточно существенный скачок на отметке 27-28км. График зависимости цены от года публикации практически такой же, как и аналогичный, построенный по данным квартир, расположенных в центральном районе, что говорит о падении цен на недвижимость в 2015-2017 годах. Зависимость цены от месяца публикации, построенная по данным квартир, расположеннных по всему городу, показывает, что цены минимальны в июне и октябре, а в декабре-в отличие от цен на квартиры в центре-достигает максимального значения. Стоит отметить, что зависимость цены от дня недели публикации объявления существенно отличается от объявлений о продаже квартир, находящихся в центре: цены на квартиры, находящиеся по всему городу максимальны в четверг и падают до минимума в воскресенье, а в остальные дни держатся ровно на одном уровне, хотя так же, как и на графике зависимости цены квадратного метра от дня недели-цена квадратного метра минимальна в субботу."
   ]
  },
  {
   "cell_type": "markdown",
   "metadata": {},
   "source": [
    "### 5. Общий вывод <a id='5'></a>"
   ]
  },
  {
   "cell_type": "markdown",
   "metadata": {},
   "source": [
    "В результате проведенного анализа были сделаны выводы: \n",
    "**1** Анализ столбцов rooms (количество комнат) и total_area(общая площадь) показал, что наибольше количество объявлений было о продаже 1-3 комнатных типовых квартир площадью от 31 до 45 м² и около 60 м² и 80 м² с высотой потолков от 2,5 м до 3,5 м. \n",
    "**2** Среднее время продажи квартир около 156 дней, медиана времени продажи квартир - 74 дня. Можно сказать, что квартира продалась быстро, если поиск покупателей занял 45 дней и меньше, и квартира продалась медленно, если на это потребовалось более 232 дней. На графиках, приведенных выше, ярко видны всплески: 7 дней, 45, 60 и 90 дней размещения объявления до продажи квартиры.\n",
    "**5** Цена квартиры сильно зависит от общей площади, и от расположения: чем ближе к центру, тем выше цена. В результате анализа цен был сделан вывод, что центральной зоной Санкт-Петербурга можно считать районы, расположеные на расстоянии до 8км. Анализ продажи квартир, расположенных в Санкт-Петербурге показал, что цена начинает резко расти при величине этаже выше 27 и достигает максимума на отметке - 30, затем падает до приблизительно среднего значения на отметке этажа - 32 и снова резко растет вверх. График зависимости цены от расстояния от центра демонстрирует, что цена при растоянии выше 8км выходит на планку, но имеет небольшой скачок вверх на отметке 20км и достаточно существенный скачок на отметке 27-28км. \n",
    "**6** Медианное значение цены наибольшее для объявлений, размещенных во вторник, в апреле и в 2014году. Цена квартир линейно падает в зависимости от дня недели размещения от максимального значения во вторник до минимального значения в субботу и воскресенье. Так же наблюдается минимум цены квартиры для объявлений, размещенных в июне. Так же наблюдается падение цен на квартиры от 2014 года(максимальное значение) до 2017 (минимальное значение), а затем, в 2018-2019 - небольшой плавный рост. \n",
    "**7*** Населённые пункты с наибольшим количеством объявлений: 'Санкт-Петербург', 'поселок Мурино', 'поселок Шушары', 'Всеволожск', 'Пушкин', 'Колпино', 'поселок Парголово', 'Гатчина', 'деревня Кудрово', 'Выборг'. Из них наибольшая стоимость квартиры в Санкт-Петербурге - медианное значение: 114849.008794, а наименьшая - в Выборге - медианное значение: 58141.909153."
   ]
  }
 ],
 "metadata": {
  "kernelspec": {
   "display_name": "Python 3",
   "language": "python",
   "name": "python3"
  },
  "language_info": {
   "codemirror_mode": {
    "name": "ipython",
    "version": 3
   },
   "file_extension": ".py",
   "mimetype": "text/x-python",
   "name": "python",
   "nbconvert_exporter": "python",
   "pygments_lexer": "ipython3",
   "version": "3.7.6"
  }
 },
 "nbformat": 4,
 "nbformat_minor": 2
}
